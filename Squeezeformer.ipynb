{
 "cells": [
  {
   "cell_type": "markdown",
   "id": "091eb406",
   "metadata": {},
   "source": [
    "# Temporal U-Net with Squeezeformer Blocks:"
   ]
  },
  {
   "cell_type": "code",
   "execution_count": 2,
   "id": "0b26ee5d",
   "metadata": {},
   "outputs": [
    {
     "name": "stdout",
     "output_type": "stream",
     "text": [
      "Output shape: torch.Size([1, 100, 128])\n"
     ]
    }
   ],
   "source": [
    "import torch\n",
    "import torch.nn as nn\n",
    "\n",
    "class SqueezeformerBlock(nn.Module):\n",
    "    def __init__(self, dim, num_heads):\n",
    "        super().__init__()\n",
    "        self.mha = nn.MultiheadAttention(dim, num_heads)\n",
    "        self.ff = nn.Sequential(\n",
    "            nn.Linear(dim, dim * 4),\n",
    "            nn.SiLU(),\n",
    "            nn.Linear(dim * 4, dim)\n",
    "        )\n",
    "        self.norm1 = nn.LayerNorm(dim)\n",
    "        self.norm2 = nn.LayerNorm(dim)\n",
    "        self.scale = nn.Parameter(torch.ones(1))\n",
    "\n",
    "    def forward(self, x):\n",
    "        # Multi-head attention\n",
    "        x = x + self.mha(x, x, x)[0]\n",
    "        x = self.norm1(x) * self.scale\n",
    "        \n",
    "        # Feed-forward\n",
    "        x = x + self.ff(x)\n",
    "        x = self.norm2(x) * self.scale\n",
    "        return x\n",
    "\n",
    "class Squeezeformer(nn.Module):\n",
    "    def __init__(self, num_blocks, dim, num_heads):\n",
    "        super().__init__()\n",
    "        self.blocks = nn.ModuleList([\n",
    "            SqueezeformerBlock(dim, num_heads) for _ in range(num_blocks)\n",
    "        ])\n",
    "        self.downsample = nn.Conv1d(dim, dim, kernel_size=3, stride=2, padding=1, groups=dim)\n",
    "        self.upsample = nn.ConvTranspose1d(dim, dim, kernel_size=4, stride=2, padding=1)\n",
    "\n",
    "    def forward(self, x):\n",
    "        skip = x\n",
    "        for block in self.blocks[:len(self.blocks)//2]:\n",
    "            x = block(x)\n",
    "        x = self.downsample(x.transpose(1, 2)).transpose(1, 2)\n",
    "        for block in self.blocks[len(self.blocks)//2:]:\n",
    "            x = block(x)\n",
    "        x = self.upsample(x.transpose(1, 2)).transpose(1, 2)\n",
    "        x = x + skip\n",
    "        return x\n",
    "\n",
    "# Example usage\n",
    "if __name__ == \"__main__\":\n",
    "    # Define the input dimensions and model hyperparameters\n",
    "    input_dim = 128\n",
    "    sequence_length = 100\n",
    "    num_blocks = 4\n",
    "    num_heads = 4\n",
    "\n",
    "    # Create a random input tensor\n",
    "    input_tensor = torch.randn(1, sequence_length, input_dim)\n",
    "\n",
    "    # Initialize the Squeezeformer model\n",
    "    model = Squeezeformer(num_blocks, input_dim, num_heads)\n",
    "\n",
    "    # Pass the input through the model\n",
    "    output_tensor = model(input_tensor)\n",
    "\n",
    "    # Print the output shape\n",
    "    print(\"Output shape:\", output_tensor.shape)"
   ]
  },
  {
   "cell_type": "markdown",
   "id": "e45c2575",
   "metadata": {},
   "source": [
    "# Depthwise Separable Convolution Subsampling:\n"
   ]
  },
  {
   "cell_type": "code",
   "execution_count": 3,
   "id": "06725f2c",
   "metadata": {},
   "outputs": [
    {
     "name": "stdout",
     "output_type": "stream",
     "text": [
      "Output shape: torch.Size([1, 256, 25])\n"
     ]
    }
   ],
   "source": [
    "import torch\n",
    "import torch.nn as nn\n",
    "\n",
    "class DepthwiseSeparableConv(nn.Module):\n",
    "    def __init__(self, in_channels, out_channels, kernel_size, stride):\n",
    "        super().__init__()\n",
    "        self.depthwise = nn.Conv1d(in_channels, in_channels, kernel_size, stride, padding=kernel_size//2, groups=in_channels)\n",
    "        self.pointwise = nn.Conv1d(in_channels, out_channels, kernel_size=1)\n",
    "    \n",
    "    def forward(self, x):\n",
    "        x = self.depthwise(x)\n",
    "        x = self.pointwise(x)\n",
    "        return x\n",
    "\n",
    "class SubsamplingBlock(nn.Module):\n",
    "    def __init__(self, in_channels, out_channels):\n",
    "        super().__init__()\n",
    "        self.conv1 = nn.Conv1d(in_channels, out_channels, kernel_size=3, stride=2, padding=1)\n",
    "        self.conv2 = DepthwiseSeparableConv(out_channels, out_channels, kernel_size=3, stride=2)\n",
    "    \n",
    "    def forward(self, x):\n",
    "        x = self.conv1(x)\n",
    "        x = self.conv2(x)\n",
    "        return x\n",
    "\n",
    "# Example usage\n",
    "if __name__ == \"__main__\":\n",
    "    input_dim = 128\n",
    "    sequence_length = 100\n",
    "    \n",
    "    input_tensor = torch.randn(1, input_dim, sequence_length)\n",
    "    model = SubsamplingBlock(input_dim, 256)\n",
    "    output_tensor = model(input_tensor)\n",
    "    print(\"Output shape:\", output_tensor.shape)"
   ]
  },
  {
   "cell_type": "markdown",
   "id": "ed4d1f30",
   "metadata": {},
   "source": [
    "# \n",
    "\n",
    "Unified Activations with Squeezeformer Block:"
   ]
  }
 ],
 "metadata": {
  "kernelspec": {
   "display_name": "Python 3 (ipykernel)",
   "language": "python",
   "name": "python3"
  },
  "language_info": {
   "codemirror_mode": {
    "name": "ipython",
    "version": 3
   },
   "file_extension": ".py",
   "mimetype": "text/x-python",
   "name": "python",
   "nbconvert_exporter": "python",
   "pygments_lexer": "ipython3",
   "version": "3.10.12"
  }
 },
 "nbformat": 4,
 "nbformat_minor": 5
}
