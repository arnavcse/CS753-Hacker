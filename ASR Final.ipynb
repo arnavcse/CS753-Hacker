{
 "cells": [
  {
   "cell_type": "markdown",
   "id": "c7a42461",
   "metadata": {},
   "source": [
    " # 🌲 Whisper Tiny and Dataset - test-clean"
   ]
  },
  {
   "cell_type": "code",
   "execution_count": 1,
   "id": "1f21436a",
   "metadata": {},
   "outputs": [
    {
     "name": "stdout",
     "output_type": "stream",
     "text": [
      "Model is English-only and has 37,184,256 parameters.\n"
     ]
    },
    {
     "data": {
      "application/vnd.jupyter.widget-view+json": {
       "model_id": "246e3badbe2043c985e12ddc11afd8aa",
       "version_major": 2,
       "version_minor": 0
      },
      "text/plain": [
       "  0%|          | 0/164 [00:00<?, ?it/s]"
      ]
     },
     "metadata": {},
     "output_type": "display_data"
    },
    {
     "name": "stdout",
     "output_type": "stream",
     "text": [
      "WER: 6.88 %\n"
     ]
    }
   ],
   "source": [
    "import os\n",
    "import numpy as np\n",
    "import torch\n",
    "import pandas as pd\n",
    "import whisper\n",
    "import torchaudio\n",
    "from tqdm.notebook import tqdm\n",
    "\n",
    "# Required in some environments to avoid protobuf compatibility issues\n",
    "try:\n",
    "    import tensorflow\n",
    "except ImportError:\n",
    "    pass\n",
    "\n",
    "# Set CUDA device\n",
    "torch.cuda.set_device(1)  # Specify CUDA device 1\n",
    "\n",
    "class LibriSpeech(torch.utils.data.Dataset):\n",
    "    \"\"\"A simple class to wrap LibriSpeech and trim/pad the audio to 30 seconds.\n",
    "    It includes audio normalization and noise reduction.\n",
    "    \"\"\"\n",
    "\n",
    "    def __init__(self, split=\"test-clean\", device=\"cuda\"):\n",
    "        self.dataset = torchaudio.datasets.LIBRISPEECH(\n",
    "            root=os.path.expanduser(\"~/.cache\"),\n",
    "            url=split,\n",
    "            download=True,\n",
    "        )\n",
    "        self.device = device\n",
    "        # Define transformations\n",
    "        self.resample_transform = torchaudio.transforms.Resample(orig_freq=16000, new_freq=16000)\n",
    "        self.normalization_transform = torchaudio.transforms.Vol(1.0)\n",
    "        self.noise_reduction_transform = torchaudio.transforms.Vad(sample_rate=16000)\n",
    "\n",
    "    def __len__(self):\n",
    "        return len(self.dataset)\n",
    "\n",
    "    def __getitem__(self, item):\n",
    "        audio, sample_rate, text, *_ = self.dataset[item]\n",
    "        assert sample_rate == 16000\n",
    "        # Apply transformations\n",
    "        audio = self.resample_transform(audio)\n",
    "        audio = self.normalization_transform(audio)\n",
    "        audio = self.noise_reduction_transform(audio)\n",
    "        audio = whisper.pad_or_trim(audio.flatten()).to(self.device)\n",
    "        mel = whisper.log_mel_spectrogram(audio)\n",
    "        return (mel, text)\n",
    "\n",
    "# Initialize dataset and dataloader\n",
    "dataset = LibriSpeech(\"test-clean\")\n",
    "loader = torch.utils.data.DataLoader(dataset, batch_size=16)\n",
    "\n",
    "# Load the Whisper model\n",
    "model = whisper.load_model(\"tiny.en\")\n",
    "print(\n",
    "    f\"Model is {'multilingual' if model.is_multilingual else 'English-only'} \"\n",
    "    f\"and has {sum(np.prod(p.shape) for p in model.parameters()):,} parameters.\"\n",
    ")\n",
    "\n",
    "# Decoding options\n",
    "options = whisper.DecodingOptions(language=\"en\", without_timestamps=True)\n",
    "\n",
    "# Processing and collecting data\n",
    "hypotheses = []\n",
    "references = []\n",
    "for mels, texts in tqdm(loader):\n",
    "    results = model.decode(mels, options)\n",
    "    hypotheses.extend([result.text for result in results])\n",
    "    references.extend(texts)\n",
    "\n",
    "# Dataframe setup for analysis\n",
    "data = pd.DataFrame(dict(hypothesis=hypotheses, reference=references))\n",
    "\n",
    "# WER calculation using jiwer\n",
    "import jiwer\n",
    "from whisper.normalizers import EnglishTextNormalizer\n",
    "\n",
    "normalizer = EnglishTextNormalizer()\n",
    "data[\"hypothesis_clean\"] = [normalizer(text) for text in data[\"hypothesis\"]]\n",
    "data[\"reference_clean\"] = [normalizer(text) for text in data[\"reference\"]]\n",
    "\n",
    "wer = jiwer.wer(list(data[\"reference_clean\"]), list(data[\"hypothesis_clean\"]))\n",
    "print(f\"WER: {wer * 100:.2f} %\")\n"
   ]
  },
  {
   "cell_type": "markdown",
   "id": "064c4bff",
   "metadata": {},
   "source": [
    "# Advanced post-processing step\n",
    "------\n",
    "This code now includes a custom function custom_error_correction which is a placeholder for any specific text corrections based on patterns you identify in your data."
   ]
  },
  {
   "cell_type": "code",
   "execution_count": 2,
   "id": "aea7cf90",
   "metadata": {},
   "outputs": [
    {
     "name": "stdout",
     "output_type": "stream",
     "text": [
      "Model is English-only and has 37,184,256 parameters.\n"
     ]
    },
    {
     "data": {
      "application/vnd.jupyter.widget-view+json": {
       "model_id": "dec048d2971040ab949b417951b42434",
       "version_major": 2,
       "version_minor": 0
      },
      "text/plain": [
       "  0%|          | 0/164 [00:00<?, ?it/s]"
      ]
     },
     "metadata": {},
     "output_type": "display_data"
    },
    {
     "name": "stdout",
     "output_type": "stream",
     "text": [
      "WER: 6.30 %\n"
     ]
    }
   ],
   "source": [
    "import os\n",
    "import numpy as np\n",
    "\n",
    "try:\n",
    "    import tensorflow  # required in Colab to avoid protobuf compatibility issues\n",
    "except ImportError:\n",
    "    pass\n",
    "\n",
    "import torch\n",
    "import pandas as pd\n",
    "import whisper\n",
    "import torchaudio\n",
    "from tqdm.notebook import tqdm\n",
    "\n",
    "DEVICE = \"cuda\" if torch.cuda.is_available() else \"cpu\"\n",
    "\n",
    "class LibriSpeech(torch.utils.data.Dataset):\n",
    "    \"\"\"A simple class to wrap LibriSpeech and trim/pad the audio to 30 seconds.\"\"\"\n",
    "    def __init__(self, split=\"test-clean\", device=DEVICE):\n",
    "        self.dataset = torchaudio.datasets.LIBRISPEECH(\n",
    "            root=os.path.expanduser(\"~/.cache\"),\n",
    "            url=split,\n",
    "            download=True,\n",
    "        )\n",
    "        self.device = device\n",
    "\n",
    "    def __len__(self):\n",
    "        return len(self.dataset)\n",
    "\n",
    "    def __getitem__(self, item):\n",
    "        audio, sample_rate, text, *_ = self.dataset[item]\n",
    "        assert sample_rate == 16000\n",
    "        audio = whisper.pad_or_trim(audio.flatten()).to(self.device)\n",
    "        mel = whisper.log_mel_spectrogram(audio)\n",
    "        return (mel, text)\n",
    "\n",
    "dataset = LibriSpeech(\"test-clean\")\n",
    "loader = torch.utils.data.DataLoader(dataset, batch_size=16)\n",
    "\n",
    "# Load Whisper model\n",
    "model = whisper.load_model(\"tiny.en\")\n",
    "print(\n",
    "    f\"Model is {'multilingual' if model.is_multilingual else 'English-only'} \"\n",
    "    f\"and has {sum(np.prod(p.shape) for p in model.parameters()):,} parameters.\"\n",
    ")\n",
    "\n",
    "options = whisper.DecodingOptions(language=\"en\", without_timestamps=True)\n",
    "\n",
    "hypotheses = []\n",
    "references = []\n",
    "\n",
    "for mels, texts in tqdm(loader):\n",
    "    results = model.decode(mels, options)\n",
    "    hypotheses.extend([result.text for result in results])\n",
    "    references.extend(texts)\n",
    "\n",
    "# Post-processing to correct common errors (custom function)\n",
    "def custom_error_correction(texts):\n",
    "    corrected_texts = []\n",
    "    for text in texts:\n",
    "        # Example custom corrections\n",
    "        corrected_text = text.replace(\"one\", \"1\").replace(\"two\", \"2\")\n",
    "        corrected_texts.append(corrected_text)\n",
    "    return corrected_texts\n",
    "\n",
    "data = pd.DataFrame(dict(hypothesis=hypotheses, reference=references))\n",
    "\n",
    "from whisper.normalizers import EnglishTextNormalizer\n",
    "normalizer = EnglishTextNormalizer()\n",
    "\n",
    "data[\"hypothesis_clean\"] = custom_error_correction([normalizer(text) for text in data[\"hypothesis\"]])\n",
    "data[\"reference_clean\"] = [normalizer(text) for text in data[\"reference\"]]\n",
    "\n",
    "import jiwer\n",
    "wer = jiwer.wer(list(data[\"reference_clean\"]), list(data[\"hypothesis_clean\"]))\n",
    "print(f\"WER: {wer * 100:.2f} %\")\n"
   ]
  },
  {
   "cell_type": "markdown",
   "id": "2e491e2d",
   "metadata": {},
   "source": [
    "# Use of EnglishTextNormalizer in Whisper Tiny"
   ]
  },
  {
   "cell_type": "code",
   "execution_count": 3,
   "id": "4ba0be81",
   "metadata": {},
   "outputs": [
    {
     "name": "stdout",
     "output_type": "stream",
     "text": [
      "Model is English-only and has 37,184,256 parameters.\n"
     ]
    },
    {
     "data": {
      "application/vnd.jupyter.widget-view+json": {
       "model_id": "ad79794ff746469091a0dae487e8db60",
       "version_major": 2,
       "version_minor": 0
      },
      "text/plain": [
       "  0%|          | 0/164 [00:00<?, ?it/s]"
      ]
     },
     "metadata": {},
     "output_type": "display_data"
    },
    {
     "name": "stdout",
     "output_type": "stream",
     "text": [
      "WER: 5.65 %\n"
     ]
    }
   ],
   "source": [
    "import os\n",
    "import numpy as np\n",
    "\n",
    "try:\n",
    "    import tensorflow  # required in Colab to avoid protobuf compatibility issues\n",
    "except ImportError:\n",
    "    pass\n",
    "\n",
    "import torch\n",
    "import pandas as pd\n",
    "import whisper\n",
    "import torchaudio\n",
    "\n",
    "from tqdm.notebook import tqdm\n",
    "\n",
    "DEVICE = \"cuda\" if torch.cuda.is_available() else \"cpu\"\n",
    "\n",
    "class LibriSpeech(torch.utils.data.Dataset):\n",
    "    \"\"\"A simple class to wrap LibriSpeech and trim/pad the audio to 30 seconds.\n",
    "    It will drop the last few seconds of a very small portion of the utterances.\n",
    "    \"\"\"\n",
    "\n",
    "    def __init__(self, split=\"test-clean\", device=DEVICE):\n",
    "        self.dataset = torchaudio.datasets.LIBRISPEECH(\n",
    "            root=os.path.expanduser(\"~/.cache\"),\n",
    "            url=split,\n",
    "            download=True,\n",
    "        )\n",
    "        self.device = device\n",
    "\n",
    "    def __len__(self):\n",
    "        return len(self.dataset)\n",
    "\n",
    "    def __getitem__(self, item):\n",
    "        audio, sample_rate, text, *_ = self.dataset[item]\n",
    "        assert sample_rate == 16000\n",
    "        audio = whisper.pad_or_trim(audio.flatten()).to(self.device)\n",
    "        mel = whisper.log_mel_spectrogram(audio)\n",
    "        return (mel, text)\n",
    "\n",
    "dataset = LibriSpeech(\"test-clean\")\n",
    "loader = torch.utils.data.DataLoader(dataset, batch_size=16)\n",
    "\n",
    "#MODEL LOADING\n",
    "model = whisper.load_model(\"tiny.en\")\n",
    "print(\n",
    "    f\"Model is {'multilingual' if model.is_multilingual else 'English-only'} \"\n",
    "    f\"and has {sum(np.prod(p.shape) for p in model.parameters()):,} parameters.\"\n",
    ")\n",
    "\n",
    "options = whisper.DecodingOptions(language=\"en\", without_timestamps=True)\n",
    "\n",
    "hypotheses = []\n",
    "references = []\n",
    "\n",
    "for mels, texts in tqdm(loader):\n",
    "    results = model.decode(mels, options)\n",
    "    hypotheses.extend([result.text for result in results])\n",
    "    references.extend(texts)\n",
    "\n",
    "data = pd.DataFrame(dict(hypothesis=hypotheses, reference=references))\n",
    "\n",
    "import jiwer\n",
    "from whisper.normalizers import EnglishTextNormalizer\n",
    "\n",
    "normalizer = EnglishTextNormalizer()\n",
    "\n",
    "data[\"hypothesis_clean\"] = [normalizer(text) for text in data[\"hypothesis\"]]\n",
    "data[\"reference_clean\"] = [normalizer(text) for text in data[\"reference\"]]\n",
    "data\n",
    "\n",
    "wer = jiwer.wer(list(data[\"reference_clean\"]), list(data[\"hypothesis_clean\"]))\n",
    "\n",
    "print(f\"WER: {wer * 100:.2f} %\")\n"
   ]
  },
  {
   "cell_type": "markdown",
   "id": "c3297977",
   "metadata": {},
   "source": [
    "# Whisper Base Dataset test-clean"
   ]
  },
  {
   "cell_type": "code",
   "execution_count": 4,
   "id": "bbbb8aaa",
   "metadata": {},
   "outputs": [
    {
     "name": "stdout",
     "output_type": "stream",
     "text": [
      "Model is English-only and has 71,825,408 parameters.\n"
     ]
    },
    {
     "data": {
      "application/vnd.jupyter.widget-view+json": {
       "model_id": "64384df42b264fdfa6aa4c59d88a8709",
       "version_major": 2,
       "version_minor": 0
      },
      "text/plain": [
       "  0%|          | 0/164 [00:00<?, ?it/s]"
      ]
     },
     "metadata": {},
     "output_type": "display_data"
    },
    {
     "name": "stdout",
     "output_type": "stream",
     "text": [
      "WER: 4.27 %\n"
     ]
    }
   ],
   "source": [
    "import os\n",
    "import numpy as np\n",
    "\n",
    "try:\n",
    "    import tensorflow  # required in Colab to avoid protobuf compatibility issues\n",
    "except ImportError:\n",
    "    pass\n",
    "\n",
    "import torch\n",
    "import pandas as pd\n",
    "import whisper\n",
    "import torchaudio\n",
    "\n",
    "from tqdm.notebook import tqdm\n",
    "\n",
    "DEVICE = \"cuda\" if torch.cuda.is_available() else \"cpu\"\n",
    "\n",
    "class LibriSpeech(torch.utils.data.Dataset):\n",
    "    \"\"\"A simple class to wrap LibriSpeech and trim/pad the audio to 30 seconds.\n",
    "    It will drop the last few seconds of a very small portion of the utterances.\n",
    "    \"\"\"\n",
    "\n",
    "    def __init__(self, split=\"test-clean\", device=DEVICE):\n",
    "        self.dataset = torchaudio.datasets.LIBRISPEECH(\n",
    "            root=os.path.expanduser(\"~/.cache\"),\n",
    "            url=split,\n",
    "            download=True,\n",
    "        )\n",
    "        self.device = device\n",
    "\n",
    "    def __len__(self):\n",
    "        return len(self.dataset)\n",
    "\n",
    "    def __getitem__(self, item):\n",
    "        audio, sample_rate, text, *_ = self.dataset[item]\n",
    "        assert sample_rate == 16000\n",
    "        audio = whisper.pad_or_trim(audio.flatten()).to(self.device)\n",
    "        mel = whisper.log_mel_spectrogram(audio)\n",
    "        return (mel, text)\n",
    "\n",
    "dataset = LibriSpeech(\"test-clean\")\n",
    "loader = torch.utils.data.DataLoader(dataset, batch_size=16)\n",
    "\n",
    "#MODEL LOADING\n",
    "model = whisper.load_model(\"base.en\")\n",
    "print(\n",
    "    f\"Model is {'multilingual' if model.is_multilingual else 'English-only'} \"\n",
    "    f\"and has {sum(np.prod(p.shape) for p in model.parameters()):,} parameters.\"\n",
    ")\n",
    "\n",
    "options = whisper.DecodingOptions(language=\"en\", without_timestamps=True)\n",
    "\n",
    "hypotheses = []\n",
    "references = []\n",
    "\n",
    "for mels, texts in tqdm(loader):\n",
    "    results = model.decode(mels, options)\n",
    "    hypotheses.extend([result.text for result in results])\n",
    "    references.extend(texts)\n",
    "\n",
    "data = pd.DataFrame(dict(hypothesis=hypotheses, reference=references))\n",
    "\n",
    "import jiwer\n",
    "from whisper.normalizers import EnglishTextNormalizer\n",
    "\n",
    "normalizer = EnglishTextNormalizer()\n",
    "\n",
    "data[\"hypothesis_clean\"] = [normalizer(text) for text in data[\"hypothesis\"]]\n",
    "data[\"reference_clean\"] = [normalizer(text) for text in data[\"reference\"]]\n",
    "data\n",
    "\n",
    "wer = jiwer.wer(list(data[\"reference_clean\"]), list(data[\"hypothesis_clean\"]))\n",
    "\n",
    "print(f\"WER: {wer * 100:.2f} %\")\n"
   ]
  },
  {
   "cell_type": "markdown",
   "id": "ae54df34",
   "metadata": {},
   "source": [
    "# Whisper Small Dataset; Test-clean"
   ]
  },
  {
   "cell_type": "code",
   "execution_count": 5,
   "id": "497d24fb",
   "metadata": {},
   "outputs": [
    {
     "name": "stdout",
     "output_type": "stream",
     "text": [
      "Model is English-only and has 240,582,144 parameters.\n"
     ]
    },
    {
     "data": {
      "application/vnd.jupyter.widget-view+json": {
       "model_id": "3ec113c3339b49a08c5f9a2c6cc2d35e",
       "version_major": 2,
       "version_minor": 0
      },
      "text/plain": [
       "  0%|          | 0/164 [00:00<?, ?it/s]"
      ]
     },
     "metadata": {},
     "output_type": "display_data"
    },
    {
     "name": "stdout",
     "output_type": "stream",
     "text": [
      "WER: 3.06 %\n"
     ]
    }
   ],
   "source": [
    "import os\n",
    "import numpy as np\n",
    "\n",
    "try:\n",
    "    import tensorflow  # required in Colab to avoid protobuf compatibility issues\n",
    "except ImportError:\n",
    "    pass\n",
    "\n",
    "import torch\n",
    "import pandas as pd\n",
    "import whisper\n",
    "import torchaudio\n",
    "\n",
    "from tqdm.notebook import tqdm\n",
    "\n",
    "DEVICE = \"cuda\" if torch.cuda.is_available() else \"cpu\"\n",
    "\n",
    "class LibriSpeech(torch.utils.data.Dataset):\n",
    "    \"\"\"A simple class to wrap LibriSpeech and trim/pad the audio to 30 seconds.\n",
    "    It will drop the last few seconds of a very small portion of the utterances.\n",
    "    \"\"\"\n",
    "\n",
    "    def __init__(self, split=\"test-clean\", device=DEVICE):\n",
    "        self.dataset = torchaudio.datasets.LIBRISPEECH(\n",
    "            root=os.path.expanduser(\"~/.cache\"),\n",
    "            url=split,\n",
    "            download=True,\n",
    "        )\n",
    "        self.device = device\n",
    "\n",
    "    def __len__(self):\n",
    "        return len(self.dataset)\n",
    "\n",
    "    def __getitem__(self, item):\n",
    "        audio, sample_rate, text, *_ = self.dataset[item]\n",
    "        assert sample_rate == 16000\n",
    "        audio = whisper.pad_or_trim(audio.flatten()).to(self.device)\n",
    "        mel = whisper.log_mel_spectrogram(audio)\n",
    "        return (mel, text)\n",
    "\n",
    "dataset = LibriSpeech(\"test-clean\")\n",
    "loader = torch.utils.data.DataLoader(dataset, batch_size=16)\n",
    "\n",
    "#MODEL LOADING\n",
    "model = whisper.load_model(\"small.en\")\n",
    "print(\n",
    "    f\"Model is {'multilingual' if model.is_multilingual else 'English-only'} \"\n",
    "    f\"and has {sum(np.prod(p.shape) for p in model.parameters()):,} parameters.\"\n",
    ")\n",
    "\n",
    "options = whisper.DecodingOptions(language=\"en\", without_timestamps=True)\n",
    "\n",
    "hypotheses = []\n",
    "references = []\n",
    "\n",
    "for mels, texts in tqdm(loader):\n",
    "    results = model.decode(mels, options)\n",
    "    hypotheses.extend([result.text for result in results])\n",
    "    references.extend(texts)\n",
    "\n",
    "data = pd.DataFrame(dict(hypothesis=hypotheses, reference=references))\n",
    "\n",
    "import jiwer\n",
    "from whisper.normalizers import EnglishTextNormalizer\n",
    "\n",
    "normalizer = EnglishTextNormalizer()\n",
    "\n",
    "data[\"hypothesis_clean\"] = [normalizer(text) for text in data[\"hypothesis\"]]\n",
    "data[\"reference_clean\"] = [normalizer(text) for text in data[\"reference\"]]\n",
    "data\n",
    "\n",
    "wer = jiwer.wer(list(data[\"reference_clean\"]), list(data[\"hypothesis_clean\"]))\n",
    "\n",
    "print(f\"WER: {wer * 100:.2f} %\")\n"
   ]
  },
  {
   "cell_type": "markdown",
   "id": "e137a903",
   "metadata": {},
   "source": [
    "# Model Comparison"
   ]
  },
  {
   "cell_type": "code",
   "execution_count": 24,
   "id": "1b25aa4c",
   "metadata": {},
   "outputs": [
    {
     "data": {
      "image/png": "[encoded data removed]",
      "text/plain": [
       "<Figure size 1200x600 with 1 Axes>"
      ]
     },
     "metadata": {},
     "output_type": "display_data"
    }
   ],
   "source": [
    "import matplotlib.pyplot as plt\n",
    "\n",
    "# Data for the models and their WER\n",
    "models = ['Whisper-tiny', 'Whisper-base', 'Whisper-small', 'Squeezeformer-SM', 'Squeezeformer-M', 'Squeezeformer-Large']\n",
    "wer = [5.65, 4.27, 3.06, 2.79, 2.56, 2.47]\n",
    "\n",
    "# Colors for the two groups of models\n",
    "colors = ['blue', 'blue', 'blue', 'green', 'green', 'green']\n",
    "\n",
    "plt.figure(figsize=(12, 6))\n",
    "plt.bar(models, wer, color=colors)\n",
    "plt.xlabel('Models')\n",
    "plt.ylabel('WER (%)')\n",
    "plt.title('Word Error Rate (WER) Comparison Between Models')\n",
    "plt.show()\n"
   ]
  },
  {
   "cell_type": "code",
   "execution_count": 25,
   "id": "fc4e0ebc",
   "metadata": {},
   "outputs": [
    {
     "data": {
      "image/png": "[encoded data removed]",
      "text/plain": [
       "<Figure size 1200x600 with 1 Axes>"
      ]
     },
     "metadata": {},
     "output_type": "display_data"
    }
   ],
   "source": [
    "import matplotlib.pyplot as plt\n",
    "\n",
    "# Data for the models and their WER\n",
    "models = ['Whisper-tiny', 'Whisper-base', 'Whisper-small', 'Squeezeformer-SM', 'Squeezeformer-M', 'Squeezeformer-Large']\n",
    "wer = [5.65, 4.27, 3.06, 2.79, 2.56, 2.47]\n",
    "model_groups = ['Whisper', 'Whisper', 'Whisper', 'Squeezeformer', 'Squeezeformer', 'Squeezeformer']\n",
    "\n",
    "# Colors for the two groups of models\n",
    "colors = ['blue' if 'Whisper' in model else 'green' for model in model_groups]\n",
    "\n",
    "plt.figure(figsize=(12, 6))\n",
    "plt.scatter(models, wer, color=colors, s=100)  # `s` adjusts the marker size\n",
    "plt.xlabel('Models')\n",
    "plt.ylabel('WER (%)')\n",
    "plt.title('Word Error Rate (WER) Comparison Between Models')\n",
    "plt.grid(True)\n",
    "plt.show()\n"
   ]
  }
 ],
 "metadata": {
  "kernelspec": {
   "display_name": "Python 3 (ipykernel)",
   "language": "python",
   "name": "python3"
  },
  "language_info": {
   "codemirror_mode": {
    "name": "ipython",
    "version": 3
   },
   "file_extension": ".py",
   "mimetype": "text/x-python",
   "name": "python",
   "nbconvert_exporter": "python",
   "pygments_lexer": "ipython3",
   "version": "3.10.12"
  }
 },
 "nbformat": 4,
 "nbformat_minor": 5
}
